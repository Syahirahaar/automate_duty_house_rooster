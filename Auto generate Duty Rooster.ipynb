{
 "cells": [
  {
   "cell_type": "markdown",
   "id": "6a812f30",
   "metadata": {},
   "source": [
    "### Auto generate the duty rooster\n",
    "#### Challenges : need to manual assign \n",
    "#### Solution : Create Python Script to auto generate the schedule \n",
    "#### Need to input housemate's name"
   ]
  },
  {
   "cell_type": "markdown",
   "id": "b6e1a6d4",
   "metadata": {},
   "source": [
    "\n",
    "## The flow : Get the current week num > Find the date of the week > Add the date with 6 days > Assign to name > loop "
   ]
  },
  {
   "cell_type": "markdown",
   "id": "6bfa9417",
   "metadata": {},
   "source": [
    "## Duty Rooster For my Housemate"
   ]
  },
  {
   "cell_type": "code",
   "execution_count": 34,
   "id": "5841f17c",
   "metadata": {},
   "outputs": [
    {
     "name": "stdout",
     "output_type": "stream",
     "text": [
      "Week #1 of year 2023\n"
     ]
    }
   ],
   "source": [
    "# Define packages and the needed things for date & time \n",
    "import datetime\n",
    "mydate = datetime.date.today() # if date is 01/01/2018\n",
    "year, week_num, day_of_week = mydate.isocalendar()\n",
    "#mydate.strftime(\"%B\")\n",
    "print(\"Week #\" + str(week_num) + \" of year \" + str(year))"
   ]
  },
  {
   "cell_type": "code",
   "execution_count": 35,
   "id": "abba1c57",
   "metadata": {},
   "outputs": [],
   "source": [
    "#Function to print header for suty rooster\n",
    "def pwu():\n",
    "    print(\"Jadual Kebersihan Rumah \" + mydate.strftime(\"%B\") )"
   ]
  },
  {
   "cell_type": "code",
   "execution_count": 36,
   "id": "86bc94fd",
   "metadata": {},
   "outputs": [],
   "source": [
    "# Function tht will ask input for housemate name, It will assign accordingly increment based on how many name you input\n",
    "def ask():\n",
    "    v = [ x for x in input().split()]\n",
    "    for count, value in enumerate(v, start=week_num):\n",
    "        g = (\"Week\", count,value)\n",
    "        t = g[1]\n",
    "        a = str(t)\n",
    "        r = datetime.datetime.strptime('2023-W'+ a +'-1','%G-W%V-%u') #will output current date for that week \n",
    "        b = r + datetime.timedelta(days=6) # adding the r output week to 6 days in advance\n",
    "        date_r = r.strftime(\"%d/%m/%Y\")\n",
    "        date_b = b.strftime(\"%d/%m/%Y\")\n",
    "        c = date_r + \"-\"  + date_b\n",
    "        print(c, value)\n",
    "    "
   ]
  },
  {
   "cell_type": "code",
   "execution_count": 37,
   "id": "db702ab1",
   "metadata": {},
   "outputs": [
    {
     "name": "stdout",
     "output_type": "stream",
     "text": [
      "Jadual Kebersihan Rumah January\n",
      "Hanis Syahirah Ana Anis\n",
      "02/01/2023-08/01/2023 Hanis\n",
      "09/01/2023-15/01/2023 Syahirah\n",
      "16/01/2023-22/01/2023 Ana\n",
      "23/01/2023-29/01/2023 Anis\n"
     ]
    }
   ],
   "source": [
    "pwu()\n",
    "ask()"
   ]
  },
  {
   "cell_type": "code",
   "execution_count": null,
   "id": "b4fc144c",
   "metadata": {},
   "outputs": [],
   "source": []
  }
 ],
 "metadata": {
  "kernelspec": {
   "display_name": "Python 3 (ipykernel)",
   "language": "python",
   "name": "python3"
  },
  "language_info": {
   "codemirror_mode": {
    "name": "ipython",
    "version": 3
   },
   "file_extension": ".py",
   "mimetype": "text/x-python",
   "name": "python",
   "nbconvert_exporter": "python",
   "pygments_lexer": "ipython3",
   "version": "3.9.7"
  }
 },
 "nbformat": 4,
 "nbformat_minor": 5
}
